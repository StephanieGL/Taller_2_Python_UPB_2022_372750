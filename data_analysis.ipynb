{
 "cells": [
  {
   "cell_type": "markdown",
   "id": "b1d0757b",
   "metadata": {},
   "source": [
    "# Taller 2\n",
    "## Análisis y Visualización de Datos de Ventas de un Negocio\n",
    "\n",
    "Presentado por:\n",
    "Stephanie Gonzalez López"
   ]
  },
  {
   "cell_type": "markdown",
   "id": "88d11d91",
   "metadata": {},
   "source": [
    " Importamos los archivos csv junto a las librerias que necesitaremos para este analisis de datos."
   ]
  },
  {
   "cell_type": "code",
   "execution_count": 492,
   "id": "89eb289c",
   "metadata": {},
   "outputs": [],
   "source": [
    "import csv \n",
    "import numpy as np \n",
    "import matplotlib as mpl\n",
    "import matplotlib.pyplot as plt\n",
    "from datetime import date\n",
    "from datetime import datetime"
   ]
  },
  {
   "cell_type": "markdown",
   "id": "63749128",
   "metadata": {},
   "source": [
    "Para saber el total de ventas de cada mes llamamos el archivo sales.csv para lectura y procedemos a crear variables sum_s y unos \"for\" para hacer las sumas, para luego reflejar esa suma total con su respectivo mes."
   ]
  },
  {
   "cell_type": "code",
   "execution_count": 438,
   "id": "ac62d5a4",
   "metadata": {},
   "outputs": [],
   "source": [
    "#Creamos dos listas vacias \"date\" y \"sales\", llamaremos el archivo csv \"sales.csv\" y lo leeremos, para asi organizar y hacer luego la suma por mes.\n",
    "dates=[]\n",
    "sales=[]\n",
    "with open ('sales.csv', 'r') as sales_csv_file:\n",
    "    sales_reader= csv.DictReader(sales_csv_file, delimiter=';')\n",
    "    for row in sales_reader:\n",
    "        dates.append(tuple(row['date'].split('/')))\n",
    "        sales.append(float(row['sales']))"
   ]
  },
  {
   "cell_type": "code",
   "execution_count": 440,
   "id": "ef738f04",
   "metadata": {},
   "outputs": [
    {
     "name": "stdout",
     "output_type": "stream",
     "text": [
      "[['01', 27200500.0], ['02', 27012500.0], ['03', 30552600.0], ['04', 35129000.0], ['05', 28236000.0], ['06', 31368600.0], ['07', 34837700.0], ['08', 27727600.0], ['09', 30742400.0], ['10', 34526800.0], ['11', 30868900.0], ['12', 34062000.0]]\n"
     ]
    }
   ],
   "source": [
    "#Creamos las variables sum_sn donde n es el numero que corresponde a cada mes.\n",
    "#Estas variables las iniciamos en 0 y esto con el fin de hacer la suma de cada mes.\n",
    "sum_s1=0\n",
    "sum_s2=0\n",
    "sum_s3=0\n",
    "sum_s4=0\n",
    "sum_s5=0\n",
    "sum_s6=0\n",
    "sum_s7=0\n",
    "sum_s8=0\n",
    "sum_s9=0\n",
    "sum_s10=0\n",
    "sum_s11=0\n",
    "sum_s12=0\n",
    "for i in range(len(dates)):   \n",
    "    if dates[i][1]== '01':\n",
    "        sum_s1 += sales[i]      \n",
    "for i in range(len(dates)):   \n",
    "    if dates[i][1]== '02':\n",
    "        sum_s2 += sales[i] \n",
    "for i in range(len(dates)):   \n",
    "    if dates[i][1]== '03':\n",
    "        sum_s3 += sales[i] \n",
    "for i in range(len(dates)):   \n",
    "    if dates[i][1]== '04':\n",
    "        sum_s4 += sales[i] \n",
    "for i in range(len(dates)):   \n",
    "    if dates[i][1]== '05':\n",
    "        sum_s5 += sales[i] \n",
    "for i in range(len(dates)):   \n",
    "    if dates[i][1]== '06':\n",
    "        sum_s6 += sales[i] \n",
    "for i in range(len(dates)):   \n",
    "    if dates[i][1]== '07':\n",
    "        sum_s7 += sales[i] \n",
    "for i in range(len(dates)):   \n",
    "    if dates[i][1]== '08':\n",
    "        sum_s8 += sales[i] \n",
    "for i in range(len(dates)):   \n",
    "    if dates[i][1]== '09':\n",
    "        sum_s9 += sales[i] \n",
    "for i in range(len(dates)):   \n",
    "    if dates[i][1]== '10':\n",
    "        sum_s10 += sales[i] \n",
    "for i in range(len(dates)):   \n",
    "    if dates[i][1]== '11':\n",
    "        sum_s11 += sales[i] \n",
    "for i in range(len(dates)):   \n",
    "    if dates[i][1]== '12':\n",
    "        sum_s12 += sales[i] \n",
    "\n",
    "#La variable \"SPM\" significa \"sales per month\", con ella creamos una lista de los meses con sus respectivos totales y los imprimimos en print(SPM).\n",
    "SPM= [[ '01', sum_s1], ['02', sum_s2], ['03', sum_s3], ['04', sum_s4], ['05', sum_s5], ['06', sum_s6], ['07', sum_s7], ['08', sum_s8], ['09', sum_s9], ['10', sum_s10], ['11', sum_s11], ['12', sum_s12]]        \n",
    "print (SPM)   \n",
    "  \n"
   ]
  },
  {
   "cell_type": "markdown",
   "id": "c8cd7982",
   "metadata": {},
   "source": [
    "Hacemos el mismo procedimiento para los gastos, usando el archivo expenses.csv "
   ]
  },
  {
   "cell_type": "code",
   "execution_count": 441,
   "id": "c2a1aa81",
   "metadata": {},
   "outputs": [],
   "source": [
    "#Creamos dos listas vacias \"date\" y \"expenses\", llamaremos el archivo csv \"expenses.csv\" y lo leeremos, para asi organizar y hacer luego la suma por mes.\n",
    "\n",
    "dates=[]\n",
    "expenses=[]\n",
    "with open ('expenses.csv', 'r') as expenses_csv_file:\n",
    "    expenses_reader=csv.DictReader(expenses_csv_file, delimiter=';')\n",
    "    for row in expenses_reader:\n",
    "        dates.append(tuple(row['date'].split('/')))\n",
    "        expenses.append(float(row['expenses']))"
   ]
  },
  {
   "cell_type": "code",
   "execution_count": 442,
   "id": "cfc77647",
   "metadata": {},
   "outputs": [
    {
     "name": "stdout",
     "output_type": "stream",
     "text": [
      "[['01', 16245388.0], ['02', 12828273.0], ['03', 10564879.0], ['04', 12202464.0], ['05', 12613112.0], ['06', 12002297.0], ['07', 12709600.0], ['08', 13483899.0], ['09', 15385074.0], ['10', 16942889.0], ['11', 13495265.0], ['12', 13551400.0]]\n"
     ]
    }
   ],
   "source": [
    "#Creamos las variables sum_en donde n es el numero que corresponde a cada mes.\n",
    "#Estas variables las iniciamos en 0 y esto con el fin de hacer la suma de cada mes.\n",
    "sum_e1=0\n",
    "sum_e2=0\n",
    "sum_e3=0\n",
    "sum_e4=0\n",
    "sum_e5=0\n",
    "sum_e6=0\n",
    "sum_e7=0\n",
    "sum_e8=0\n",
    "sum_e9=0\n",
    "sum_e10=0\n",
    "sum_e11=0\n",
    "sum_e12=0\n",
    "for i in range(len(dates)):   \n",
    "    if dates[i][1]== '01':\n",
    "        sum_e1 += expenses[i]      \n",
    "for i in range(len(dates)):   \n",
    "    if dates[i][1]== '02':\n",
    "        sum_e2 += expenses[i] \n",
    "for i in range(len(dates)):   \n",
    "    if dates[i][1]== '03':\n",
    "        sum_e3 += expenses[i] \n",
    "for i in range(len(dates)):   \n",
    "    if dates[i][1]== '04':\n",
    "        sum_e4 += expenses[i] \n",
    "for i in range(len(dates)):   \n",
    "    if dates[i][1]== '05':\n",
    "        sum_e5 += expenses[i] \n",
    "for i in range(len(dates)):   \n",
    "    if dates[i][1]== '06':\n",
    "        sum_e6 += expenses[i] \n",
    "for i in range(len(dates)):   \n",
    "    if dates[i][1]== '07':\n",
    "        sum_e7 += expenses[i] \n",
    "for i in range(len(dates)):   \n",
    "    if dates[i][1]== '08':\n",
    "        sum_e8 += expenses[i] \n",
    "for i in range(len(dates)):   \n",
    "    if dates[i][1]== '09':\n",
    "        sum_e9 += expenses[i] \n",
    "for i in range(len(dates)):   \n",
    "    if dates[i][1]== '10':\n",
    "        sum_e10 += expenses[i] \n",
    "for i in range(len(dates)):   \n",
    "    if dates[i][1]== '11':\n",
    "        sum_e11 += expenses[i] \n",
    "for i in range(len(dates)):   \n",
    "    if dates[i][1]== '12':\n",
    "        sum_e12 += expenses[i] \n",
    "#La variable \"EPM\" significa \"expenses per month\", con ella creamos una lista de los meses con sus respectivos totales y los imprimimos en print(EPM).\n",
    "EPM= [['01', sum_e1], ['02', sum_e2], ['03', sum_e3], ['04', sum_e4], ['05', sum_e5], ['06', sum_e6], ['07', sum_e7], ['08', sum_e8], ['09', sum_e9], ['10', sum_e10], ['11', sum_e11], ['12', sum_e12]]        \n",
    "print (EPM)   \n"
   ]
  },
  {
   "cell_type": "markdown",
   "id": "69180f4f",
   "metadata": {},
   "source": [
    "Luego, creamos una variables \"Uti\" para calcular la ultilidad de cada mes y nos genere una lista donde incluirá los meses con sus respectivos valores."
   ]
  },
  {
   "cell_type": "code",
   "execution_count": 443,
   "id": "9e4292ae",
   "metadata": {},
   "outputs": [
    {
     "name": "stdout",
     "output_type": "stream",
     "text": [
      "[['01', 10955112.0], ['02', 14184227.0], ['03', 19987721.0], ['04', 22926536.0], ['05', 15622888.0], ['06', 19366303.0], ['07', 22128100.0], ['08', 14243701.0], ['09', 15357326.0], ['10', 17583911.0], ['11', 17373635.0], ['12', 20510600.0]]\n"
     ]
    }
   ],
   "source": [
    "#Creamos las variables \"Utin\" donde n corresponde al numero del mes.\n",
    "#Hallamos la utilidad \"Utilidad= ingresos totales – gastos generados por los productos\" \n",
    "Uti1=(sum_s1)-(sum_e1)\n",
    "Uti2=(sum_s2)-(sum_e2)\n",
    "Uti3=(sum_s3)-(sum_e3)\n",
    "Uti4=(sum_s4)-(sum_e4)\n",
    "Uti5=(sum_s5)-(sum_e5)\n",
    "Uti6=(sum_s6)-(sum_e6)\n",
    "Uti7=(sum_s7)-(sum_e7)\n",
    "Uti8=(sum_s8)-(sum_e8)\n",
    "Uti9=(sum_s9)-(sum_e9)\n",
    "Uti10=(sum_s10)-(sum_e10)\n",
    "Uti11=(sum_s11)-(sum_e11)\n",
    "Uti12=(sum_s12)-(sum_e12)\n",
    "#La variable \"UPM\" significa \"utilities per month\", con ella creamos una lista de los meses con sus respectivos totales y los imprimimos en print(UPM).\n",
    "UPM= [['01', Uti1], ['02', Uti2], ['03', Uti3], ['04', Uti4], ['05', Uti5], ['06', Uti6], ['07', Uti7], ['08', Uti8], ['09', Uti9], ['10', Uti10], ['11', Uti11], ['12', Uti12]]        \n",
    "print(UPM)"
   ]
  },
  {
   "cell_type": "markdown",
   "id": "112e712a",
   "metadata": {},
   "source": [
    "Graficamos el mes a mes de las ventas, de los gastos y la utilidad, luego guardamos estas tres graficas en un solo archivo png llamado \"Taller2.png\"."
   ]
  },
  {
   "cell_type": "code",
   "execution_count": 429,
   "id": "eb543d76",
   "metadata": {},
   "outputs": [],
   "source": [
    "#Creamos una lista \"M\" que incluirá los textos y poder organizarlos en las graficas.\n",
    "M = ['Jan', 'Feb', 'Mar', 'Apr', 'May', 'June', 'July', 'Aug', 'Sep', 'Oct', 'Nov', 'Dec' ]\n",
    "num_m= range(len(M))"
   ]
  },
  {
   "cell_type": "code",
   "execution_count": 444,
   "id": "ec5afc28",
   "metadata": {},
   "outputs": [
    {
     "data": {
      "image/png": "[encoded data removed]",
      "text/plain": [
       "<Figure size 720x720 with 3 Axes>"
      ]
     },
     "metadata": {
      "needs_background": "light"
     },
     "output_type": "display_data"
    }
   ],
   "source": [
    "plt.close('all')\n",
    "fig1 = plt.figure(figsize=(10,10))\n",
    "#Grafica 1 para las ventas mensuales.\n",
    "ax1 = plt.subplot(3, 1, 1)\n",
    "Datax_sales, Datay_sales = list(zip(*SPM))\n",
    "Datax_sales_int= list(map(int, Datax_sales))\n",
    "Datax_exp, Datay_exp = list(zip(*EPM))\n",
    "Datax_exp_int= list(map(int, Datax_exp))\n",
    "Datax_uti, Datay_uti = list(zip(*UPM))\n",
    "Datax_uti_int= list(map(int, Datax_uti))\n",
    "plt.plot(Datax_sales, Datay_sales, color='c', linestyle='-', marker='o')\n",
    "ax1.set_xticks(num_m)\n",
    "ax1.set_xticklabels(M, fontsize=8)\n",
    "plt.yticks(fontsize=8)\n",
    "plt.ticklabel_format(axis='y', style='plain', scilimits=(0,0))\n",
    "plt.title('Ventas mensuales')\n",
    "plt.xlabel('Meses')\n",
    "plt.ylabel('Total (mensual)')\n",
    "ax1.grid()\n",
    "#Grafica 2 para los gastos mensuales.\n",
    "ax2 = plt.subplot(3, 1, 2)\n",
    "plt.plot(Datax_exp, Datay_exp, color='g', linestyle='-', marker='o')\n",
    "ax2.set_xticks(num_m)\n",
    "ax2.set_xticklabels(M, fontsize=8)\n",
    "plt.yticks(fontsize=8)\n",
    "plt.ticklabel_format(axis='y', style='plain', scilimits=(0,0))\n",
    "plt.title('Gastos mensuales')\n",
    "plt.xlabel('Meses')\n",
    "plt.ylabel('Total (mensual)')\n",
    "ax2.grid()\n",
    "#Grafica 3 para la utilidad mensual.\n",
    "ax3 = plt.subplot(3, 1, 3)\n",
    "plt.plot(Datax_uti, Datay_uti, color='r', linestyle='-', marker='o')\n",
    "ax3.set_xticks(num_m)\n",
    "ax3.set_xticklabels(M, fontsize=8)\n",
    "plt.yticks(fontsize=8)\n",
    "plt.ticklabel_format(axis='y', style='plain', scilimits=(0,0))\n",
    "plt.title('Utilidad')\n",
    "plt.xlabel('Meses')\n",
    "plt.ylabel('Total (mensual)')\n",
    "ax3.grid()\n",
    "#Ajustamos el espacio entre las graficas:\n",
    "plt.subplots_adjust(hspace=0.4)\n",
    "#Procedemos a guardar el archivo png:\n",
    "plt.savefig('Taller2.png')"
   ]
  },
  {
   "cell_type": "markdown",
   "id": "eb2c64b7",
   "metadata": {},
   "source": [
    "Por ultimo, colocaremos los resultados en nuestro archivo txt llamado \"Data_analysis.txt\". Empezamos por colocar el mes de mayor y menor venta/gasto/utilidad:"
   ]
  },
  {
   "cell_type": "code",
   "execution_count": 496,
   "id": "47c32686",
   "metadata": {},
   "outputs": [],
   "source": [
    "#Ventas:\n",
    "s_mayor=0\n",
    "s_mayormes=''\n",
    "s_menor=float(\"inf\")\n",
    "s_menormes=''\n",
    "\n",
    "for i in range (len(M)):\n",
    "    if s_mayor < sales[i]:\n",
    "        s_mayor = sales[i]\n",
    "        s_mayormes= M[i]\n",
    "        \n",
    "    if  s_menor > sales[i]:\n",
    "        s_menor = sales[i]\n",
    "        s_menormes= M[i]"
   ]
  },
  {
   "cell_type": "code",
   "execution_count": 497,
   "id": "a57cc260",
   "metadata": {},
   "outputs": [],
   "source": [
    "#Gastos:\n",
    "e_mayor=0\n",
    "e_mayormes=''\n",
    "e_menor=float(\"inf\")\n",
    "e_menormes=''\n",
    "\n",
    "for i in range (len(M)):\n",
    "    if e_mayor < expenses[i]:\n",
    "        e_mayor = expenses[i]\n",
    "        e_mayormes= M[i]\n",
    "        \n",
    "    if  e_menor>expenses[i]:\n",
    "        e_menor = expenses[i]\n",
    "        e_menormes= M[i]"
   ]
  },
  {
   "cell_type": "code",
   "execution_count": 498,
   "id": "62369af9",
   "metadata": {},
   "outputs": [],
   "source": [
    "#Utilidad\n",
    "uti=[]\n",
    "for i in range (len(M)):\n",
    "    uti.append(sales[i]-expenses[i])\n",
    "\n",
    "u_mayor=0\n",
    "u_mayormes=''\n",
    "u_menor=float(\"inf\")\n",
    "u_menormes=''\n",
    "\n",
    "for i in range (len(M)):\n",
    "    if u_mayor < uti[i]:\n",
    "        u_mayor = uti[i]\n",
    "        u_mayormes= uti[i]\n",
    "        \n",
    "    if  u_menor > uti[i]:\n",
    "        u_menor = uti[i]\n",
    "        u_menormes= M[i]"
   ]
  },
  {
   "cell_type": "markdown",
   "id": "ef4f4f7d",
   "metadata": {},
   "source": [
    "Haremos los gastos, ventas y utilidades del año"
   ]
  },
  {
   "cell_type": "code",
   "execution_count": 499,
   "id": "a2c282f6",
   "metadata": {},
   "outputs": [
    {
     "name": "stdout",
     "output_type": "stream",
     "text": [
      "372264600.0\n"
     ]
    }
   ],
   "source": [
    "#Ventas\n",
    "s_year= (sum_s1)+(sum_s2)+(sum_s3)+(sum_s4)+(sum_s5)+(sum_s6)+(sum_s7)+(sum_s8)+(sum_s9)+(sum_s10)+(sum_s11)+(sum_s12)\n",
    "print(s_year)"
   ]
  },
  {
   "cell_type": "code",
   "execution_count": 500,
   "id": "b047348f",
   "metadata": {},
   "outputs": [
    {
     "name": "stdout",
     "output_type": "stream",
     "text": [
      "162024540.0\n"
     ]
    }
   ],
   "source": [
    "#Gastos\n",
    "e_year= (sum_e1)+(sum_e2)+(sum_e3)+(sum_e4)+(sum_e5)+(sum_e6)+(sum_e7)+(sum_e8)+(sum_e9)+(sum_e10)+(sum_e11)+(sum_e12)\n",
    "print(e_year)"
   ]
  },
  {
   "cell_type": "code",
   "execution_count": 501,
   "id": "148f56e7",
   "metadata": {},
   "outputs": [
    {
     "name": "stdout",
     "output_type": "stream",
     "text": [
      "210240060.0\n"
     ]
    }
   ],
   "source": [
    "#Utilidad\n",
    "u_year= (Uti1)+(Uti2)+(Uti3)+(Uti4)+(Uti5)+(Uti6)+(Uti7)+(Uti8)+(Uti9)+(Uti10)+(Uti11)+(Uti12)\n",
    "print(u_year)"
   ]
  },
  {
   "cell_type": "markdown",
   "id": "f7773fbf",
   "metadata": {},
   "source": [
    "Haremos el promedio mensual de las ventas, gastos y utilidades"
   ]
  },
  {
   "cell_type": "code",
   "execution_count": 503,
   "id": "a7e92002",
   "metadata": {},
   "outputs": [],
   "source": [
    "prom_s=int(s_year/12)#Ventas\n",
    "prom_e=int(e_year/12)#Gastos\n",
    "prom_u=int(u_year/12)#Utilidades"
   ]
  },
  {
   "cell_type": "markdown",
   "id": "4e93717e",
   "metadata": {},
   "source": [
    "Por ultimo, tenemos la desviacion estandar de las ventas, gastos y utilidades mensuales"
   ]
  },
  {
   "cell_type": "code",
   "execution_count": 505,
   "id": "7382b2e6",
   "metadata": {},
   "outputs": [],
   "source": [
    "desv_s=0 #Ventas\n",
    "desv_e=0 #Gastos\n",
    "for i in range (len(sales)):\n",
    "    desv_s=int(desv_s+((sales[i]-prom_s)**2))\n",
    "    desv_e=int(desv_e+((expenses[i]-prom_e)**2))\n",
    "    \n",
    "desv_s=int((desv_s/12)**(1/2))\n",
    "desv_e=int((desv_e/12)**(1/2))"
   ]
  },
  {
   "cell_type": "markdown",
   "id": "47aa7089",
   "metadata": {},
   "source": [
    "Para finalizar, generamos el archivo txt llamado \"Data_analysis.txt\""
   ]
  },
  {
   "cell_type": "code",
   "execution_count": 511,
   "id": "de755090",
   "metadata": {},
   "outputs": [],
   "source": [
    "time = datetime.now()\n",
    "time = time.strftime('%d/%m/%Y - %H:%M:%S')\n",
    "\n",
    "\n",
    "file = open('Data_analysis.txt','w')\n",
    "file.write(\"\\n\")\n",
    "file.write(f\"\\n\\n\\n\\n Stephanie Gonzalez Lopez  - {time}\\n\\n\\n\")\n",
    "\n",
    "\n",
    "file.write(\"Datos obtenidos:\\n\\n\\n\")\n",
    "\n",
    "\n",
    "file.write(\"               ENERO    FEBRERO      MARZO     ABRIL       MAYO      JUNIO      JULIO      AGOSTO   SEPTIEMBRE  OCTUBRE   NOVIEMBRE   DICIEMBRE\\n\")\n",
    "\n",
    "file.write(f\"Ventas       {sum_s1} - {sum_s2} - {sum_s3} - {sum_s4} - {sum_s5} - {sum_s6} - {sum_s7} - {sum_s8} - {sum_s9} - {sum_s10} - {sum_s11} - {sum_s12}\\n\")\n",
    "file.write(f\"Gastos       {sum_e1} - {sum_e2} - {sum_e3} - {sum_e4} - {sum_e5} - {sum_e6} - {sum_e7} - {sum_e8} - {sum_e9} - {sum_e10} - {sum_e11} - {sum_e12}\\n\")\n",
    "file.write(f\"Utilidad     {Uti1} - {Uti2} - {Uti3} - {Uti4} - {Uti5} - {Uti6} - {Uti7} - {Uti8} - {Uti9} - {Uti10} - {Uti11} - {Uti12}\\n\\n\\n\")\n",
    "\n",
    "\n",
    "\n",
    "\n",
    "\n",
    "\n",
    "file.write(f\"Ventas: el mes con mas ventas fue {s_mayormes} con ${s_mayor} . El mes con menos ventas fue {s_menormes} con ${s_menor}\\n\\n\")\n",
    "\n",
    "file.write(f\"Gastos: el mes con mas gastos fue {e_mayormes} con ${e_mayor} . El mes con menos gastos fue {e_menormes} con ${e_menor}\\n\\n\")\n",
    "\n",
    "file.write(f\"Utilidad: el mes con mas utilidad fue {u_mayormes} con ${u_mayor} . El mes con menos ventas fue {u_menormes} con ${u_menor}\\n\\n\")\n",
    "\n",
    "file.write(f\"Total (Anual): Para las ventas el total fue: ${s_year}. Para los gastos el total fue: ${e_year}. Para las utilidades el total fue: ${u_year}.\\n\\n\")\n",
    "\n",
    "file.write(f\"Promedio (mensual): Para las ventas el promedio fue: ${prom_s}. Para los gastos el promedio fue: ${prom_e}. Para las utilidades el promedio fue: ${prom_u}. \\n\\n\")\n",
    "\n",
    "file.write(f\"Desviación estandar (mensual): Para las ventas la desviacion fue ${desv_s}. Para los gastos la desviacion fue ${desv_e}. \\n\\n\")\n",
    "\n",
    "\n",
    "file.close()"
   ]
  },
  {
   "cell_type": "code",
   "execution_count": null,
   "id": "2adffb42",
   "metadata": {},
   "outputs": [],
   "source": []
  }
 ],
 "metadata": {
  "kernelspec": {
   "display_name": "Python 3 (ipykernel)",
   "language": "python",
   "name": "python3"
  },
  "language_info": {
   "codemirror_mode": {
    "name": "ipython",
    "version": 3
   },
   "file_extension": ".py",
   "mimetype": "text/x-python",
   "name": "python",
   "nbconvert_exporter": "python",
   "pygments_lexer": "ipython3",
   "version": "3.9.12"
  }
 },
 "nbformat": 4,
 "nbformat_minor": 5
}
